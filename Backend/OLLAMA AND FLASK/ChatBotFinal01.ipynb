{
  "nbformat": 4,
  "nbformat_minor": 0,
  "metadata": {
    "colab": {
      "provenance": [],
      "gpuType": "T4",
      "authorship_tag": "ABX9TyONEdM49dxfiIaCy8h2D3Zu",
      "include_colab_link": true
    },
    "kernelspec": {
      "name": "python3",
      "display_name": "Python 3"
    },
    "language_info": {
      "name": "python"
    },
    "accelerator": "GPU"
  },
  "cells": [
    {
      "cell_type": "markdown",
      "metadata": {
        "id": "view-in-github",
        "colab_type": "text"
      },
      "source": [
        "<a href=\"https://colab.research.google.com/github/dead10GOD/ollama_test/blob/main/ChatBotFinal01.ipynb\" target=\"_parent\"><img src=\"https://colab.research.google.com/assets/colab-badge.svg\" alt=\"Open In Colab\"/></a>"
      ]
    },
    {
      "cell_type": "code",
      "execution_count": 4,
      "metadata": {
        "colab": {
          "base_uri": "https://localhost:8080/"
        },
        "id": "sPFrrqIxJCtR",
        "outputId": "8fc24f84-b5c4-46b3-9e36-63e0670c3732"
      },
      "outputs": [
        {
          "output_type": "stream",
          "name": "stdout",
          "text": [
            "Requirement already satisfied: flask in /usr/local/lib/python3.10/dist-packages (3.0.3)\n",
            "Requirement already satisfied: flask-cors in /usr/local/lib/python3.10/dist-packages (5.0.0)\n",
            "Requirement already satisfied: pyngrok in /usr/local/lib/python3.10/dist-packages (7.2.1)\n",
            "Requirement already satisfied: Werkzeug>=3.0.0 in /usr/local/lib/python3.10/dist-packages (from flask) (3.1.3)\n",
            "Requirement already satisfied: Jinja2>=3.1.2 in /usr/local/lib/python3.10/dist-packages (from flask) (3.1.4)\n",
            "Requirement already satisfied: itsdangerous>=2.1.2 in /usr/local/lib/python3.10/dist-packages (from flask) (2.2.0)\n",
            "Requirement already satisfied: click>=8.1.3 in /usr/local/lib/python3.10/dist-packages (from flask) (8.1.7)\n",
            "Requirement already satisfied: blinker>=1.6.2 in /usr/local/lib/python3.10/dist-packages (from flask) (1.9.0)\n",
            "Requirement already satisfied: PyYAML>=5.1 in /usr/local/lib/python3.10/dist-packages (from pyngrok) (6.0.2)\n",
            "Requirement already satisfied: MarkupSafe>=2.0 in /usr/local/lib/python3.10/dist-packages (from Jinja2>=3.1.2->flask) (3.0.2)\n"
          ]
        }
      ],
      "source": [
        "!pip install flask flask-cors pyngrok\n"
      ]
    },
    {
      "cell_type": "code",
      "source": [
        "from flask import Flask, request, jsonify\n",
        "from flask_cors import CORS\n",
        "from pyngrok import ngrok\n",
        "import subprocess\n",
        "\n",
        "# Install Ollama CLI (Ensure to enable GPU in Colab for better performance)\n",
        "!curl -fsSL https://ollama.com/install.sh | bash\n",
        "\n",
        "# Start Ollama server\n",
        "ollama_process = subprocess.Popen([\"ollama\", \"serve\"], stdout=subprocess.PIPE, stderr=subprocess.PIPE)\n",
        "\n",
        "# Wait for the Ollama server to initialize\n",
        "import time\n",
        "time.sleep(5)\n",
        "\n",
        "# Set up Flask app\n",
        "app = Flask(__name__)\n",
        "CORS(app)  # Allow cross-origin requests\n",
        "\n",
        "# Flask endpoint for chatbot\n",
        "@app.route('/chat', methods=['POST'])\n",
        "def chat():\n",
        "    try:\n",
        "        # Get the user message from the request\n",
        "        user_message = request.json.get('message', '')\n",
        "        if not user_message:\n",
        "            return jsonify({'response': 'Message cannot be empty.'}), 400\n",
        "\n",
        "        # Use Ollama CLI to get a response from the model\n",
        "        result = subprocess.run(\n",
        "            [\"ollama\", \"generate\", \"--model\", \"llama2\", \"--prompt\", user_message],\n",
        "            stdout=subprocess.PIPE,\n",
        "            stderr=subprocess.PIPE,\n",
        "            text=True\n",
        "        )\n",
        "\n",
        "        # Extract and return the response\n",
        "        response_text = result.stdout.strip()\n",
        "        if not response_text:\n",
        "            response_text = \"No response generated.\"\n",
        "\n",
        "        return jsonify({'response': response_text}), 200\n",
        "    except Exception as e:\n",
        "        return jsonify({'response': 'An error occurred.', 'error': str(e)}), 500\n",
        "\n",
        "# Start ngrok tunnel for external access\n",
        "public_url = ngrok.connect(5000)\n",
        "print(f\"Ngrok public URL: {public_url}\")\n",
        "\n",
        "# Run the Flask server\n",
        "app.run(port=5000)\n"
      ],
      "metadata": {
        "colab": {
          "base_uri": "https://localhost:8080/"
        },
        "id": "nlTWgoydJ9PR",
        "outputId": "74579b5a-57ac-4638-a352-071d963aab82"
      },
      "execution_count": null,
      "outputs": [
        {
          "output_type": "stream",
          "name": "stdout",
          "text": [
            ">>> Installing ollama to /usr/local\n",
            ">>> Downloading Linux amd64 bundle\n",
            "############################################################################################# 100.0%\n",
            ">>> Creating ollama user...\n",
            ">>> Adding ollama user to video group...\n",
            ">>> Adding current user to ollama group...\n",
            ">>> Creating ollama systemd service...\n",
            "\u001b[1m\u001b[31mWARNING:\u001b[m systemd is not running\n",
            "\u001b[1m\u001b[31mWARNING:\u001b[m Unable to detect NVIDIA/AMD GPU. Install lspci or lshw to automatically detect and install GPU dependencies.\n",
            ">>> The Ollama API is now available at 127.0.0.1:11434.\n",
            ">>> Install complete. Run \"ollama\" from the command line.\n",
            "Ngrok public URL: NgrokTunnel: \"https://40cf-35-233-132-156.ngrok-free.app\" -> \"http://localhost:5000\"\n",
            " * Serving Flask app '__main__'\n",
            " * Debug mode: off\n"
          ]
        },
        {
          "output_type": "stream",
          "name": "stderr",
          "text": [
            "INFO:werkzeug:\u001b[31m\u001b[1mWARNING: This is a development server. Do not use it in a production deployment. Use a production WSGI server instead.\u001b[0m\n",
            " * Running on http://127.0.0.1:5000\n",
            "INFO:werkzeug:\u001b[33mPress CTRL+C to quit\u001b[0m\n",
            "INFO:werkzeug:127.0.0.1 - - [06/Dec/2024 18:13:12] \"\u001b[33mGET / HTTP/1.1\u001b[0m\" 404 -\n",
            "INFO:werkzeug:127.0.0.1 - - [06/Dec/2024 18:13:14] \"\u001b[31m\u001b[1mGET /chat HTTP/1.1\u001b[0m\" 405 -\n",
            "INFO:werkzeug:127.0.0.1 - - [06/Dec/2024 18:14:16] \"POST /chat HTTP/1.1\" 200 -\n"
          ]
        }
      ]
    },
    {
      "cell_type": "code",
      "source": [],
      "metadata": {
        "id": "0Yg70Wj8J_WC"
      },
      "execution_count": null,
      "outputs": []
    }
  ]
}