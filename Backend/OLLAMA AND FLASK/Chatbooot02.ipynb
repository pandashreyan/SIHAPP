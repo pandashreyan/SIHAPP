{
  "cells": [
    {
      "cell_type": "markdown",
      "metadata": {
        "id": "view-in-github",
        "colab_type": "text"
      },
      "source": [
        "<a href=\"https://colab.research.google.com/github/dead10GOD/Nltk_generate01/blob/main/Chatbooot02.ipynb\" target=\"_parent\"><img src=\"https://colab.research.google.com/assets/colab-badge.svg\" alt=\"Open In Colab\"/></a>"
      ]
    },
    {
      "cell_type": "code",
      "execution_count": null,
      "metadata": {
        "colab": {
          "base_uri": "https://localhost:8080/"
        },
        "id": "OyZlBSlGjuQZ",
        "outputId": "b589bd7f-96e9-463a-ae47-b6fd64aabf1e"
      },
      "outputs": [
        {
          "metadata": {
            "tags": null
          },
          "name": "stdout",
          "output_type": "stream",
          "text": [
            "Requirement already satisfied: flask in /usr/local/lib/python3.10/dist-packages (3.0.3)\n",
            "Requirement already satisfied: flask-cors in /usr/local/lib/python3.10/dist-packages (5.0.0)\n",
            "Requirement already satisfied: pyngrok in /usr/local/lib/python3.10/dist-packages (7.2.1)\n",
            "Requirement already satisfied: Werkzeug>=3.0.0 in /usr/local/lib/python3.10/dist-packages (from flask) (3.1.3)\n",
            "Requirement already satisfied: Jinja2>=3.1.2 in /usr/local/lib/python3.10/dist-packages (from flask) (3.1.4)\n",
            "Requirement already satisfied: itsdangerous>=2.1.2 in /usr/local/lib/python3.10/dist-packages (from flask) (2.2.0)\n",
            "Requirement already satisfied: click>=8.1.3 in /usr/local/lib/python3.10/dist-packages (from flask) (8.1.7)\n",
            "Requirement already satisfied: blinker>=1.6.2 in /usr/local/lib/python3.10/dist-packages (from flask) (1.9.0)\n",
            "Requirement already satisfied: PyYAML>=5.1 in /usr/local/lib/python3.10/dist-packages (from pyngrok) (6.0.2)\n",
            "Requirement already satisfied: MarkupSafe>=2.0 in /usr/local/lib/python3.10/dist-packages (from Jinja2>=3.1.2->flask) (3.0.2)\n",
            ">>> Cleaning up old version at /usr/local/lib/ollama\n",
            ">>> Installing ollama to /usr/local\n",
            ">>> Downloading Linux amd64 bundle\n",
            "############################################################################################# 100.0%\n",
            ">>> Adding ollama user to video group...\n",
            ">>> Adding current user to ollama group...\n",
            ">>> Creating ollama systemd service...\n",
            "\u001b[1m\u001b[31mWARNING:\u001b[m systemd is not running\n",
            "\u001b[1m\u001b[31mWARNING:\u001b[m Unable to detect NVIDIA/AMD GPU. Install lspci or lshw to automatically detect and install GPU dependencies.\n",
            ">>> The Ollama API is now available at 127.0.0.1:11434.\n",
            ">>> Install complete. Run \"ollama\" from the command line.\n",
            "Starting Ollama server...\n",
            "Ngrok public URL: NgrokTunnel: \"https://8dba-104-199-209-15.ngrok-free.app\" -> \"http://localhost:5000\"\n",
            " * Serving Flask app '__main__'\n",
            " * Debug mode: off\n"
          ]
        },
        {
          "metadata": {
            "tags": null
          },
          "name": "stderr",
          "output_type": "stream",
          "text": [
            "INFO:werkzeug:\u001b[31m\u001b[1mWARNING: This is a development server. Do not use it in a production deployment. Use a production WSGI server instead.\u001b[0m\n",
            " * Running on http://127.0.0.1:5000\n",
            "INFO:werkzeug:\u001b[33mPress CTRL+C to quit\u001b[0m\n"
          ]
        }
      ],
      "source": [
        "# Step 1: Install necessary packages\n",
        "!pip install flask flask-cors pyngrok\n",
        "\n",
        "# Step 2: Import necessary libraries\n",
        "from flask import Flask, request, jsonify\n",
        "from flask_cors import CORS\n",
        "from pyngrok import ngrok, conf\n",
        "import subprocess\n",
        "import time\n",
        "\n",
        "# Step 3: Install Ollama CLI\n",
        "!curl -fsSL https://ollama.com/install.sh | bash\n",
        "\n",
        "# Step 4: Start Ollama server\n",
        "ollama_process = subprocess.Popen([\"ollama\", \"serve\"], stdout=subprocess.PIPE, stderr=subprocess.PIPE)\n",
        "\n",
        "# Wait for the Ollama server to initialize\n",
        "print(\"Starting Ollama server...\")\n",
        "time.sleep(10)  # Allow sufficient time for the server to start\n",
        "\n",
        "# Step 5: Set up Flask app\n",
        "app = Flask(__name__)\n",
        "CORS(app)  # Enable Cross-Origin Resource Sharing (CORS)\n",
        "\n",
        "# Step 6: Define Flask endpoint for chatbot\n",
        "@app.route('/chat', methods=['POST'])\n",
        "def chat():\n",
        "    try:\n",
        "        # Get the user's message from the request\n",
        "        user_message = request.json.get('message', '')\n",
        "        if not user_message:\n",
        "            return jsonify({'response': 'Message cannot be empty.'}), 400\n",
        "\n",
        "        # Use the Ollama CLI to generate a response\n",
        "        result = subprocess.run(\n",
        "            [\"ollama\", \"generate\", \"--model\", \"llama2\", \"--prompt\", user_message],\n",
        "            stdout=subprocess.PIPE,\n",
        "            stderr=subprocess.PIPE,\n",
        "            text=True\n",
        "        )\n",
        "\n",
        "        # Extract and return the response\n",
        "        response_text = result.stdout.strip()\n",
        "        if not response_text:\n",
        "            # Include error details in the response for debugging\n",
        "            error_details = result.stderr.strip()\n",
        "            response_text = f\"No response generated. Error: {error_details}\"\n",
        "\n",
        "        return jsonify({'response': response_text}), 200\n",
        "    except Exception as e:\n",
        "        return jsonify({'response': 'An error occurred.', 'error': str(e)}), 500\n",
        "\n",
        "# Step 7: Set up ngrok tunnel\n",
        "conf.get_default().auth_token = \"2peT5bHowRgMVRmJjg1uAva52KO_38Syaei4L82pR46rs3YYj\"  # Replace with your ngrok auth token\n",
        "public_url = ngrok.connect(5000)  # Expose Flask app on port 5000\n",
        "print(f\"Ngrok public URL: {public_url}\")\n",
        "\n",
        "# Step 8: Start the Flask server\n",
        "app.run(port=5000)\n"
      ]
    },
    {
      "cell_type": "code",
      "execution_count": null,
      "metadata": {
        "id": "yv3Qg-84jxSc"
      },
      "outputs": [],
      "source": []
    }
  ],
  "metadata": {
    "colab": {
      "provenance": [],
      "authorship_tag": "ABX9TyPNIAgBKETbyVP3o3BnnbFQ",
      "include_colab_link": true
    },
    "kernelspec": {
      "display_name": "Python 3",
      "name": "python3"
    },
    "language_info": {
      "name": "python"
    }
  },
  "nbformat": 4,
  "nbformat_minor": 0
}